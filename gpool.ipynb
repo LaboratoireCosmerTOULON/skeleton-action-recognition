{
 "cells": [
  {
   "cell_type": "code",
   "execution_count": 87,
   "metadata": {},
   "outputs": [],
   "source": [
    "import numpy as np\n",
    "import tensorflow as tf"
   ]
  },
  {
   "cell_type": "code",
   "execution_count": 88,
   "metadata": {},
   "outputs": [],
   "source": [
    "#                  N  V C*T \n",
    "x = np.random.rand(2, 4, 5)\n",
    "p = np.random.rand(5, 1)\n",
    "A = tf.ones((2, 1, 1, 1))*tf.Variable(np.random.rand(3, 4, 4), dtype=tf.float32)"
   ]
  },
  {
   "cell_type": "code",
   "execution_count": 89,
   "metadata": {},
   "outputs": [
    {
     "data": {
      "text/plain": [
       "<tf.Tensor: id=5681, shape=(2, 3, 4, 4), dtype=float32, numpy=\n",
       "array([[[[0.31466368, 0.14480618, 0.30655217, 0.9609877 ],\n",
       "         [0.8802996 , 0.5074826 , 0.98072815, 0.71749896],\n",
       "         [0.6729204 , 0.15679   , 0.77928454, 0.8573988 ],\n",
       "         [0.8328191 , 0.22712839, 0.9309881 , 0.21164884]],\n",
       "\n",
       "        [[0.03836715, 0.41943595, 0.4771193 , 0.99462974],\n",
       "         [0.25554243, 0.18573959, 0.5424085 , 0.15370098],\n",
       "         [0.5264157 , 0.9583813 , 0.1138834 , 0.8161457 ],\n",
       "         [0.194951  , 0.8009568 , 0.05754864, 0.8958153 ]],\n",
       "\n",
       "        [[0.4034327 , 0.8244697 , 0.12411056, 0.2622539 ],\n",
       "         [0.7077735 , 0.22267327, 0.7393886 , 0.4303404 ],\n",
       "         [0.53576523, 0.394839  , 0.83175516, 0.53424203],\n",
       "         [0.32423282, 0.89419055, 0.62233686, 0.23237012]]],\n",
       "\n",
       "\n",
       "       [[[0.31466368, 0.14480618, 0.30655217, 0.9609877 ],\n",
       "         [0.8802996 , 0.5074826 , 0.98072815, 0.71749896],\n",
       "         [0.6729204 , 0.15679   , 0.77928454, 0.8573988 ],\n",
       "         [0.8328191 , 0.22712839, 0.9309881 , 0.21164884]],\n",
       "\n",
       "        [[0.03836715, 0.41943595, 0.4771193 , 0.99462974],\n",
       "         [0.25554243, 0.18573959, 0.5424085 , 0.15370098],\n",
       "         [0.5264157 , 0.9583813 , 0.1138834 , 0.8161457 ],\n",
       "         [0.194951  , 0.8009568 , 0.05754864, 0.8958153 ]],\n",
       "\n",
       "        [[0.4034327 , 0.8244697 , 0.12411056, 0.2622539 ],\n",
       "         [0.7077735 , 0.22267327, 0.7393886 , 0.4303404 ],\n",
       "         [0.53576523, 0.394839  , 0.83175516, 0.53424203],\n",
       "         [0.32423282, 0.89419055, 0.62233686, 0.23237012]]]],\n",
       "      dtype=float32)>"
      ]
     },
     "execution_count": 89,
     "metadata": {},
     "output_type": "execute_result"
    }
   ],
   "source": [
    "A"
   ]
  },
  {
   "cell_type": "code",
   "execution_count": 90,
   "metadata": {},
   "outputs": [],
   "source": [
    "y = tf.matmul(x, tf.math.l2_normalize(p))\n",
    "indices = tf.argsort(y, axis=-2, direction='DESCENDING')\n",
    "indices = indices[:, :3]\n",
    "y_hat = tf.math.sigmoid(tf.gather_nd(y, indices, batch_dims=1))\n",
    "x_l = tf.gather_nd(x, indices, batch_dims=1)\n",
    "x_l = tf.multiply(x_l, y_hat)"
   ]
  },
  {
   "cell_type": "code",
   "execution_count": 91,
   "metadata": {},
   "outputs": [],
   "source": [
    "A = tf.transpose(A, perm=[0, 2, 3, 1])"
   ]
  },
  {
   "cell_type": "code",
   "execution_count": 94,
   "metadata": {},
   "outputs": [
    {
     "data": {
      "text/plain": [
       "<tf.Tensor: id=6205, shape=(2, 3, 3, 3), dtype=float32, numpy=\n",
       "array([[[[0.31466368, 0.30655217, 0.14480618],\n",
       "         [0.6729204 , 0.77928454, 0.15679   ],\n",
       "         [0.8802996 , 0.98072815, 0.5074826 ]],\n",
       "\n",
       "        [[0.03836715, 0.4771193 , 0.41943595],\n",
       "         [0.5264157 , 0.1138834 , 0.9583813 ],\n",
       "         [0.25554243, 0.5424085 , 0.18573959]],\n",
       "\n",
       "        [[0.4034327 , 0.12411056, 0.8244697 ],\n",
       "         [0.53576523, 0.83175516, 0.394839  ],\n",
       "         [0.7077735 , 0.7393886 , 0.22267327]]],\n",
       "\n",
       "\n",
       "       [[[0.31466368, 0.30655217, 0.9609877 ],\n",
       "         [0.6729204 , 0.77928454, 0.8573988 ],\n",
       "         [0.8328191 , 0.9309881 , 0.21164884]],\n",
       "\n",
       "        [[0.03836715, 0.4771193 , 0.99462974],\n",
       "         [0.5264157 , 0.1138834 , 0.8161457 ],\n",
       "         [0.194951  , 0.05754864, 0.8958153 ]],\n",
       "\n",
       "        [[0.4034327 , 0.12411056, 0.2622539 ],\n",
       "         [0.53576523, 0.83175516, 0.53424203],\n",
       "         [0.32423282, 0.62233686, 0.23237012]]]], dtype=float32)>"
      ]
     },
     "execution_count": 94,
     "metadata": {},
     "output_type": "execute_result"
    }
   ],
   "source": [
    "A_l = tf.gather(tf.gather(A, tf.squeeze(indices, axis=-1), batch_dims=1),  tf.squeeze(indices, axis=-1), axis=-2, batch_dims=1)\n",
    "A_l = tf.transpose(A_l, perm=[0, 3, 1, 2])\n",
    "A_l"
   ]
  },
  {
   "cell_type": "code",
   "execution_count": null,
   "metadata": {},
   "outputs": [],
   "source": [
    "y = tf.matmul(x, tf.math.l2_normalize(p))\n",
    "indices = tf.argsort(y, axis=-2, direction='DESCENDING')\n",
    "indices = indices[:, :, :2]\n",
    "y_hat = tf.math.sigmoid(tf.gather_nd(y, indices, batch_dims=2))\n",
    "x_l = tf.gather_nd(x, indices, batch_dims=2)\n",
    "x_l = tf.multiply(x_l, y_hat)\n",
    "A_l = tf.gather(tf.gather(A, tf.squeeze(indices, axis=-1), batch_dims=1),  tf.squeeze(indices, axis=-1), axis=-1, batch_dims=2)"
   ]
  },
  {
   "cell_type": "code",
   "execution_count": null,
   "metadata": {},
   "outputs": [],
   "source": [
    "A_l"
   ]
  },
  {
   "cell_type": "code",
   "execution_count": null,
   "metadata": {},
   "outputs": [],
   "source": [
    "class GPool(tf.keras.layers.Layer):\n",
    "    def __init__(self):\n",
    "        super().__init__()\n",
    "\n",
    "    # input_shape: N  T  V  C\n",
    "    def build(self, input_shape, k):\n",
    "        self.p = self.add_weight(name=\"projection_vector\",\n",
    "                                 shape=[input_shape[-1], 1],\n",
    "                                 trainable=True)\n",
    "        self.k = k\n",
    "\n",
    "    def call(self, x, A):\n",
    "        # project onto p\n",
    "        y = tf.matmul(x, tf.math.l2_normalize(self.p))\n",
    "\n",
    "        #rank the projections\n",
    "        indices = tf.argsort(y, axis=-2, direction='DESCENDING')\n",
    "        indices = indices[:, :, :tf.cast(self.k*tf.shape(A)[-1], tf.uint8)]\n",
    "\n",
    "        # get y at indices and apply sigmoid\n",
    "        y_hat = tf.math.sigmoid(tf.gather_nd(y, indices, batch_dims=2))\n",
    "\n",
    "        # get x at indices and apply y_hat\n",
    "        x = tf.gather_nd(x, indices, batch_dims=2)\n",
    "        x = tf.multiply(x, y_hat)\n",
    "\n",
    "        # get indices rows and cols\n",
    "        indices = tf.squeeze(indices, axis=-1)\n",
    "        A = tf.gather(A, indices)\n",
    "        A = tf.gather(A, indices, axis=-1, batch_dims=2)\n",
    "\n",
    "        return x, A"
   ]
  }
 ],
 "metadata": {
  "kernelspec": {
   "display_name": "Python 3",
   "language": "python",
   "name": "python3"
  },
  "language_info": {
   "codemirror_mode": {
    "name": "ipython",
    "version": 3
   },
   "file_extension": ".py",
   "mimetype": "text/x-python",
   "name": "python",
   "nbconvert_exporter": "python",
   "pygments_lexer": "ipython3",
   "version": "3.6.9"
  }
 },
 "nbformat": 4,
 "nbformat_minor": 4
}
