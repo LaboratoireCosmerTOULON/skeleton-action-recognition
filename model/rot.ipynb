{
 "cells": [
  {
   "cell_type": "code",
   "execution_count": 2,
   "metadata": {},
   "outputs": [],
   "source": [
    "import tensorflow as tf\n",
    "import numpy as np\n",
    "\n",
    "import os\n",
    "os.environ[\"CUDA_VISIBLE_DEVICES\"] = \"-1\""
   ]
  },
  {
   "cell_type": "code",
   "execution_count": 4,
   "metadata": {},
   "outputs": [
    {
     "data": {
      "text/plain": [
       "<tf.Tensor: shape=(3, 2, 3), dtype=float64, numpy=\n",
       "array([[[0.9827047 , 0.24575817, 0.5504432 ],\n",
       "        [0.60083602, 0.39220152, 0.78816476]],\n",
       "\n",
       "       [[0.65162018, 0.38473162, 0.47941295],\n",
       "        [0.15802501, 0.56012943, 0.11809563]],\n",
       "\n",
       "       [[0.07189691, 0.78278671, 0.43211583],\n",
       "        [0.94734434, 0.62965043, 0.74092906]]])>"
      ]
     },
     "execution_count": 4,
     "metadata": {},
     "output_type": "execute_result"
    }
   ],
   "source": [
    "x = tf.convert_to_tensor(np.random.rand(3, 2, 3))\n",
    "x"
   ]
  },
  {
   "cell_type": "code",
   "execution_count": 38,
   "metadata": {},
   "outputs": [
    {
     "name": "stdout",
     "output_type": "stream",
     "text": [
      "tf.Tensor(\n",
      "[[[0.85229278]\n",
      "  [0.7051478 ]]\n",
      "\n",
      " [[0.88726586]\n",
      "  [0.99303481]]\n",
      "\n",
      " [[0.90808169]\n",
      "  [0.73784178]]], shape=(3, 2, 1), dtype=float64)\n",
      "tf.Tensor(\n",
      "[[[ 0.85229278 -0.52306502  0.          0.        ]\n",
      "  [ 0.7051478  -0.70906035  0.          0.        ]]\n",
      "\n",
      " [[ 0.88726586 -0.46125838  0.          0.        ]\n",
      "  [ 0.99303481 -0.11782132  0.          0.        ]]\n",
      "\n",
      " [[ 0.90808169 -0.41879308  0.          0.        ]\n",
      "  [ 0.73784178 -0.67497371  0.          0.        ]]], shape=(3, 2, 4), dtype=float64)\n"
     ]
    },
    {
     "data": {
      "text/plain": [
       "<tf.Tensor: shape=(6, 4, 4), dtype=float64, numpy=\n",
       "array([[[ 0.85229278,  0.7051478 , -0.52306502, -0.70906035],\n",
       "        [ 0.52306502,  0.70906035,  0.85229278,  0.7051478 ],\n",
       "        [ 0.        ,  0.        ,  0.        ,  0.        ],\n",
       "        [ 0.        ,  0.        ,  0.        ,  0.        ]],\n",
       "\n",
       "       [[ 0.        ,  0.        ,  0.        ,  0.        ],\n",
       "        [ 0.        ,  0.        ,  0.        ,  0.        ],\n",
       "        [ 1.        ,  1.        ,  0.        ,  0.        ],\n",
       "        [ 0.        ,  0.        ,  1.        ,  1.        ]],\n",
       "\n",
       "       [[ 0.88726586,  0.99303481, -0.46125838, -0.11782132],\n",
       "        [ 0.46125838,  0.11782132,  0.88726586,  0.99303481],\n",
       "        [ 0.        ,  0.        ,  0.        ,  0.        ],\n",
       "        [ 0.        ,  0.        ,  0.        ,  0.        ]],\n",
       "\n",
       "       [[ 0.        ,  0.        ,  0.        ,  0.        ],\n",
       "        [ 0.        ,  0.        ,  0.        ,  0.        ],\n",
       "        [ 1.        ,  1.        ,  0.        ,  0.        ],\n",
       "        [ 0.        ,  0.        ,  1.        ,  1.        ]],\n",
       "\n",
       "       [[ 0.90808169,  0.73784178, -0.41879308, -0.67497371],\n",
       "        [ 0.41879308,  0.67497371,  0.90808169,  0.73784178],\n",
       "        [ 0.        ,  0.        ,  0.        ,  0.        ],\n",
       "        [ 0.        ,  0.        ,  0.        ,  0.        ]],\n",
       "\n",
       "       [[ 0.        ,  0.        ,  0.        ,  0.        ],\n",
       "        [ 0.        ,  0.        ,  0.        ,  0.        ],\n",
       "        [ 1.        ,  1.        ,  0.        ,  0.        ],\n",
       "        [ 0.        ,  0.        ,  1.        ,  1.        ]]])>"
      ]
     },
     "execution_count": 38,
     "metadata": {},
     "output_type": "execute_result"
    }
   ],
   "source": [
    "def _rotation_z(theta):\n",
    "    r1 = tf.cos(theta[:,2:3])\n",
    "    r2 = tf.sin(theta[:,2:3])\n",
    "    zero = tf.zeros_like(r1)\n",
    "    one = tf.ones_like(r1)\n",
    "    first = tf.reshape(tf.concat([r1,-r2,zero,zero],axis=1),(-1,1,4))\n",
    "    second = tf.reshape(tf.concat([r2,r1,zero,zero],axis=1),(-1,1,4))\n",
    "    third = tf.reshape(tf.concat([zero,zero,one,zero],axis=1),(-1,1,4))\n",
    "    fourth = tf.reshape(tf.concat([zero,zero,zero,one],axis=1),(-1,1,4))\n",
    "    rotation_z = tf.concat([first,second,third,fourth],axis=1)\n",
    "    rotation_z = tf.reshape(rotation_z,[-1,4,4])\n",
    "    return rotation_z\n",
    "\n",
    "_rotation_z(x[:0:1])"
   ]
  }
 ],
 "metadata": {
  "kernelspec": {
   "display_name": "Python 3",
   "language": "python",
   "name": "python3"
  },
  "language_info": {
   "codemirror_mode": {
    "name": "ipython",
    "version": 3
   },
   "file_extension": ".py",
   "mimetype": "text/x-python",
   "name": "python",
   "nbconvert_exporter": "python",
   "pygments_lexer": "ipython3",
   "version": "3.6.9"
  }
 },
 "nbformat": 4,
 "nbformat_minor": 4
}
